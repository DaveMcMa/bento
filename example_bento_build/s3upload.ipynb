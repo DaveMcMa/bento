{
 "cells": [
  {
   "cell_type": "code",
   "execution_count": 2,
   "id": "ceddfbb0-74e7-4505-8742-b4a55fa27dd6",
   "metadata": {},
   "outputs": [
    {
     "data": {
      "text/plain": [
       "{'ResponseMetadata': {'RequestId': '141310000005c',\n",
       "  'HostId': '141310000005c',\n",
       "  'HTTPStatusCode': 200,\n",
       "  'HTTPHeaders': {'content-type': 'application/xml',\n",
       "   'date': 'Thu, 11 Sep 2025 08:23:47 GMT',\n",
       "   'server': 'envoy',\n",
       "   'strict-transport-security': 'max-age=86400',\n",
       "   'x-amz-id-2': '141310000005c',\n",
       "   'x-amz-request-id': '141310000005c',\n",
       "   'x-content-type-options': 'nosniff',\n",
       "   'x-frame-options': 'SAMEORIGIN',\n",
       "   'x-envoy-upstream-service-time': '431',\n",
       "   'transfer-encoding': 'chunked'},\n",
       "  'RetryAttempts': 0},\n",
       " 'Buckets': [{'Name': 'mlflow.sg2pcai172',\n",
       "   'CreationDate': datetime.datetime(2025, 9, 4, 19, 18, 11, tzinfo=tzlocal())}],\n",
       " 'Owner': {'DisplayName': 's3user', 'ID': '103'}}"
      ]
     },
     "execution_count": 2,
     "metadata": {},
     "output_type": "execute_result"
    }
   ],
   "source": [
    "import boto3\n",
    "s3 = boto3.client(\n",
    "    's3',\n",
    "    endpoint_url='http://local-s3-service.ezdata-system.svc.cluster.local:30000',\n",
    ")\n",
    "s3.list_buckets()"
   ]
  },
  {
   "cell_type": "code",
   "execution_count": 3,
   "id": "8d28dadc-4adb-445e-bcb8-de8c8f4455f6",
   "metadata": {},
   "outputs": [
    {
     "name": "stdout",
     "output_type": "stream",
     "text": [
      "Files in rundmc bucket: [{'Key': 'nllb-gpu-v2.bento', 'LastModified': datetime.datetime(2025, 9, 11, 10, 24, 42, 614415, tzinfo=tzlocal()), 'ETag': '\"68eaca8d20cab12ba9cd49bd7b3aec55\"', 'Size': 7960, 'StorageClass': 'STANDARD'}, {'Key': 'nllb-gpu.bento', 'LastModified': datetime.datetime(2025, 9, 11, 10, 7, 49, 549584, tzinfo=tzlocal()), 'ETag': '\"4a43a2033a465e7ef1a7c5a55b854347\"', 'Size': 7956, 'StorageClass': 'STANDARD'}, {'Key': 'nllb-v2.bento', 'LastModified': datetime.datetime(2025, 9, 11, 8, 40, 39, 303331, tzinfo=tzlocal()), 'ETag': '\"f4bdd4ab539cf591c34620f57de908da\"', 'Size': 7168, 'StorageClass': 'STANDARD'}, {'Key': 'nllb-v3.bento', 'LastModified': datetime.datetime(2025, 9, 11, 9, 5, 55, 277724, tzinfo=tzlocal()), 'ETag': '\"810a818cb86e28417ef7574e8c3e639e\"', 'Size': 7352, 'StorageClass': 'STANDARD'}, {'Key': 'nllb-v4.bento', 'LastModified': datetime.datetime(2025, 9, 11, 9, 51, 30, 618315, tzinfo=tzlocal()), 'ETag': '\"c01b7b7dee1d76829b6833258430556f\"', 'Size': 7388, 'StorageClass': 'STANDARD'}, {'Key': 'nllb.bento', 'LastModified': datetime.datetime(2025, 9, 11, 8, 25, 2, 732480, tzinfo=tzlocal()), 'ETag': '\"919805cbeaa5a6b0ee0a8aaf94357561\"', 'Size': 7164, 'StorageClass': 'STANDARD'}]\n"
     ]
    }
   ],
   "source": [
    "import boto3\n",
    "\n",
    "# Initialize S3 client\n",
    "s3 = boto3.client('s3', endpoint_url='http://local-s3-service.ezdata-system.svc.cluster.local:30000')\n",
    "\n",
    "# Create new bucket\n",
    "#s3.create_bucket(Bucket='rundmc')\n",
    "\n",
    "# Upload the bento file\n",
    "s3.upload_file('nllb-gpu-v2.bento', 'rundmc', 'nllb-gpu-v2.bento')\n",
    "\n",
    "# Verify upload\n",
    "response = s3.list_objects_v2(Bucket='rundmc')\n",
    "print(\"Files in rundmc bucket:\", response.get('Contents', []))"
   ]
  },
  {
   "cell_type": "code",
   "execution_count": 4,
   "id": "9bf21e49-90f5-45be-a463-41d1e6023749",
   "metadata": {},
   "outputs": [
    {
     "name": "stdout",
     "output_type": "stream",
     "text": [
      "Access Key: eyJhbGciOiJSUzI1NiIsInR5cCIgOiAiSldUIiwia2lkIiA6ICI3ZTVVQ0l1TTVvd3k3cHBBbjlOZWtKdlI1dEVkMXR5SjJwX1E1aVJuaG1BIn0.eyJleHAiOjE3NjAxMjgyMzUsImlhdCI6MTc1NzUzNjIzNSwiYXV0aF90aW1lIjoxNzU3NTM2MjM0LCJqdGkiOiJiODdjYjM1NC1hYzEzLTQxMTEtOWY1MC00ZmJkYjU1OGFmYjciLCJpc3MiOiJodHRwczovL2tleWNsb2FrLmluZ3Jlc3MucGNhaTAzMDguc2cyLmhwZWNvbG8ubmV0L3JlYWxtcy9VQSIsInN1YiI6ImVjMWJiOWY1LTY1NzMtNDE1MS1iZmM1LWM0ZTc2YjBiYjQxNSIsInR5cCI6IkJlYXJlciIsImF6cCI6InVhIiwibm9uY2UiOiJmSmQ5X0pYbEx3cUNEU1h3WHkwTG1UdjNrUnZtZ0lqM0xOVEpHZS1udEo4Iiwic2Vzc2lvbl9zdGF0ZSI6IjMyN2I5NGY0LWQxZTgtNGY3MC05MTQxLTIyMDJjNmQxZjQzYiIsImFjciI6IjEiLCJzY29wZSI6Im9wZW5pZCBlbWFpbCBzZzJwY2FpMTcyOnVhIG9mZmxpbmVfYWNjZXNzIHByb2ZpbGUiLCJzaWQiOiIzMjdiOTRmNC1kMWU4LTRmNzAtOTE0MS0yMjAyYzZkMWY0M2IiLCJ1aWQiOiIxMDAwMDA1NCIsImVtYWlsX3ZlcmlmaWVkIjpmYWxzZSwiZ2lkIjoiMTAwMSIsIm5hbWUiOiJEYXZpZCBNY01haG9uIiwibmFtZXNwYWNlIjoiZGF2aWQtbWNtYWhvbjMtODRmMjQ2YzAiLCJncm91cHMiOlsidWEtZW5hYmxlZCIsIm9mZmxpbmVfYWNjZXNzIiwiYWRtaW4iLCJ1bWFfYXV0aG9yaXphdGlvbiIsImRlZmF1bHQtcm9sZXMtdWEiXSwicHJlZmVycmVkX3VzZXJuYW1lIjoiZGF2aWQubWNtYWhvbjMiLCJnaXZlbl9uYW1lIjoiRGF2aWQiLCJwb3NpeF91c2VybmFtZSI6ImRhdmlkLm1jbWFob24zIiwiZmFtaWx5X25hbWUiOiJNY01haG9uIiwiZW1haWwiOiJkYXZpZC5tY21haG9uM0BocGUuY29tIn0.H9M4sDngkJaJBvivAPp7q0BJwN0j0ZYibKDp3Fh4wJ2HB6KpXAZ2QgGC0tnaI5BUuI4u7nGW9ot8shUTxzWurS5pAFAxmgBYEoQmlcL9Mu9oSdZH-7OTJt2UXKFBKT0Y_eNM1QTHDc6PBkMJbwQlwtteGY-wO3PEAuJabQHOygeYUNrxwA9VS5wp_x8_LiVN_JhsrBMvBlVeg5EdlrLbRO9Vfmf-sgpruUs55CwVplmYeyEh1Y4OsRWqESySKunv4ekDEzFJsPywD2mAJ3_sEo104x7BYeW9L8CpAx2kk38Lf1Ild5iPqQwUQuYqKMEBMjnw48dYjVUWp4pBlA6B9w\n",
      "Secret Key: s3\n",
      "Token: \n"
     ]
    }
   ],
   "source": [
    "creds = boto3.Session().get_credentials()\n",
    "print(f\"Access Key: {creds.access_key}\")\n",
    "print(f\"Secret Key: {creds.secret_key}\")\n",
    "print(f\"Token: {creds.token}\")"
   ]
  },
  {
   "cell_type": "code",
   "execution_count": null,
   "id": "c2970d16-7d9a-441b-89c0-64c6b11c2584",
   "metadata": {},
   "outputs": [],
   "source": []
  }
 ],
 "metadata": {
  "kernelspec": {
   "display_name": "Python 3 (ipykernel)",
   "language": "python",
   "name": "python3"
  },
  "language_info": {
   "codemirror_mode": {
    "name": "ipython",
    "version": 3
   },
   "file_extension": ".py",
   "mimetype": "text/x-python",
   "name": "python",
   "nbconvert_exporter": "python",
   "pygments_lexer": "ipython3",
   "version": "3.11.9"
  }
 },
 "nbformat": 4,
 "nbformat_minor": 5
}
